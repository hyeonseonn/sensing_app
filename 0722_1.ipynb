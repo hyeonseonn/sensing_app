{
  "nbformat": 4,
  "nbformat_minor": 0,
  "metadata": {
    "colab": {
      "provenance": [],
      "authorship_tag": "ABX9TyMe33Ke5EedsEKo7Ali1QDd",
      "include_colab_link": true
    },
    "kernelspec": {
      "name": "python3",
      "display_name": "Python 3"
    },
    "language_info": {
      "name": "python"
    }
  },
  "cells": [
    {
      "cell_type": "markdown",
      "metadata": {
        "id": "view-in-github",
        "colab_type": "text"
      },
      "source": [
        "<a href=\"https://colab.research.google.com/github/hyeonseonn/sensing_app/blob/main/0722_1.ipynb\" target=\"_parent\"><img src=\"https://colab.research.google.com/assets/colab-badge.svg\" alt=\"Open In Colab\"/></a>"
      ]
    },
    {
      "cell_type": "code",
      "execution_count": null,
      "metadata": {
        "id": "xeQxmaWcoEjo"
      },
      "outputs": [],
      "source": [
        "import numpy as np\n",
        "import pandas as pd\n",
        "from sklearn.preprocessing import MinMaxScaler\n",
        "\n",
        "# 샘플 데이터 (Google Cluster Trace 유사)\n",
        "np.random.seed(42)\n",
        "time_steps = 5000\n",
        "t = np.linspace(0, 50, time_steps)\n",
        "\n",
        "cpu_usage = 0.5 + 0.3*np.sin(0.2*t) + 0.1*np.random.randn(time_steps)\n",
        "mem_usage = np.clip(0.2 + 0.001*t + 0.05*np.random.randn(time_steps), 0, 1)\n",
        "disk_io   = np.clip(0.3 + 0.2*np.random.randn(time_steps), 0, 1)\n",
        "\n",
        "df = pd.DataFrame({'CPU': cpu_usage, 'Memory': mem_usage, 'DiskIO': disk_io})\n",
        "\n",
        "# MinMax 스케일링\n",
        "scaler = MinMaxScaler()\n",
        "scaled_data = scaler.fit_transform(df)\n",
        "\n",
        "# 시계열 윈도우 생성 함수\n",
        "def create_sequences(data, seq_len=50, pred_steps=10):\n",
        "    X, y = [], []\n",
        "    for i in range(len(data) - seq_len - pred_steps):\n",
        "        X.append(data[i:i+seq_len])\n",
        "        y.append(data[i+seq_len:i+seq_len+pred_steps, 0])  # CPU 예측\n",
        "    return np.array(X), np.array(y)\n",
        "\n",
        "SEQ_LEN, PRED_STEPS = 50, 10\n",
        "X, y = create_sequences(scaled_data, SEQ_LEN, PRED_STEPS)\n",
        "\n",
        "split_idx = int(len(X)*0.8)\n",
        "X_train, X_test = X[:split_idx], X[split_idx:]\n",
        "y_train, y_test = y[:split_idx], y[split_idx:]\n"
      ]
    }
  ]
}