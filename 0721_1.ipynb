{
  "nbformat": 4,
  "nbformat_minor": 0,
  "metadata": {
    "colab": {
      "provenance": [],
      "authorship_tag": "ABX9TyO4vsmhqF4janL6Rit4YYEk",
      "include_colab_link": true
    },
    "kernelspec": {
      "name": "python3",
      "display_name": "Python 3"
    },
    "language_info": {
      "name": "python"
    }
  },
  "cells": [
    {
      "cell_type": "markdown",
      "metadata": {
        "id": "view-in-github",
        "colab_type": "text"
      },
      "source": [
        "<a href=\"https://colab.research.google.com/github/hyeonseonn/sensing_app/blob/main/0721_1.ipynb\" target=\"_parent\"><img src=\"https://colab.research.google.com/assets/colab-badge.svg\" alt=\"Open In Colab\"/></a>"
      ]
    },
    {
      "cell_type": "code",
      "execution_count": 5,
      "metadata": {
        "id": "xeQxmaWcoEjo"
      },
      "outputs": [],
      "source": [
        "import numpy as np\n",
        "import pandas as pd\n",
        "import matplotlib.pyplot as plt\n",
        "from sklearn.preprocessing import MinMaxScaler\n",
        "from tensorflow.keras.models import Sequential\n",
        "from tensorflow.keras.layers import Conv1D, MaxPooling1D, LSTM, Dense\n"
      ]
    },
    {
      "cell_type": "code",
      "source": [
        "\n",
        "# ============================================\n",
        "# 1. 샘플 CPU 데이터 생성 (사인파 + 노이즈)\n",
        "# ============================================\n",
        "np.random.seed(42)\n",
        "minutes = 500   # 500분(약 8시간)\n",
        "time_index = pd.date_range('2024-01-01', periods=minutes, freq='Min')\n",
        "\n",
        "# CPU 사용률 패턴: 주기적 + 노이즈\n",
        "cpu = 50 + 30*np.sin(np.linspace(0, 10, minutes)) + np.random.normal(0, 5, minutes)\n",
        "\n",
        "df = pd.DataFrame({'timestamp': time_index, 'cpu': cpu})\n",
        "df.set_index('timestamp', inplace=True)\n",
        "\n",
        "# ============================================\n",
        "# 2. 정규화\n",
        "# ============================================\n",
        "scaler = MinMaxScaler()\n",
        "scaled_cpu = scaler.fit_transform(df[['cpu']].values)\n",
        "\n",
        "# ============================================\n",
        "# 3. 시퀀스 생성 함수\n",
        "# ============================================\n",
        "def create_sequences(dataset, past_steps=20, future_steps=5):\n",
        "    X, y = [], []\n",
        "    for i in range(len(dataset)-past_steps-future_steps):\n",
        "        X.append(dataset[i:i+past_steps])          # 과거 20분\n",
        "        y.append(dataset[i+past_steps:i+past_steps+future_steps])  # 미래 5분\n",
        "    return np.array(X), np.array(y)\n",
        "\n",
        "past_steps = 20\n",
        "future_steps = 5\n",
        "X, y = create_sequences(scaled_cpu, past_steps, future_steps)\n",
        "\n",
        "# ============================================\n",
        "# 4. 학습/테스트 분리\n",
        "# ============================================\n",
        "train_size = int(len(X)*0.8)\n",
        "X_train, X_test = X[:train_size], X[train_size:]\n",
        "y_train, y_test = y[:train_size], y[train_size:]\n",
        "\n",
        "print(f\"입력 X_train shape: {X_train.shape}, 출력 y_train shape: {y_train.shape}\")\n",
        "\n",
        "# ============================================\n",
        "# 5. CNN-LSTM 모델 정의\n",
        "# ============================================\n",
        "model = Sequential()\n",
        "model.add(Conv1D(filters=64, kernel_size=3, activation='relu',\n",
        "                 input_shape=(X_train.shape[1], X_train.shape[2])))  # (time_steps, 1변수)\n",
        "model.add(MaxPooling1D(pool_size=2))\n",
        "model.add(LSTM(64, activation='relu'))\n",
        "model.add(Dense(future_steps))  # 미래 5분 CPU 예측\n",
        "model.compile(optimizer='adam', loss='mse')\n",
        "\n",
        "# ============================================\n",
        "# 6. 학습\n",
        "# ============================================\n",
        "model.fit(X_train, y_train.reshape((y_train.shape[0], -1)),\n",
        "          epochs=50, batch_size=16, verbose=1)\n",
        "\n",
        "# ============================================\n",
        "# 7. 예측\n",
        "# ============================================\n",
        "pred = model.predict(X_test)\n",
        "pred = pred.reshape(-1, future_steps)  # 미래 5분 예측\n",
        "y_true = y_test.reshape(-1, future_steps)\n",
        "\n",
        "# ============================================\n",
        "# 8. 시각화 (미래 1분 후 예측만 비교)\n",
        "# ============================================\n",
        "plt.figure(figsize=(12,5))\n",
        "plt.plot(y_true[:100,0], label=\"실제 CPU(1분 후)\")\n",
        "plt.plot(pred[:100,0], label=\"예측 CPU(1분 후)\")\n",
        "plt.legend()\n",
        "plt.title(\"CPU 사용률 CNN-LSTM 예측 (단변수)\")\n",
        "plt.show()\n"
      ],
      "metadata": {
        "id": "qH615sL0hgPY"
      },
      "execution_count": null,
      "outputs": []
    }
  ]
}