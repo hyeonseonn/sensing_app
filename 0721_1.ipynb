{
  "nbformat": 4,
  "nbformat_minor": 0,
  "metadata": {
    "colab": {
      "provenance": [],
      "authorship_tag": "ABX9TyOBGcjn2IN7epRKw5h6bwsa",
      "include_colab_link": true
    },
    "kernelspec": {
      "name": "python3",
      "display_name": "Python 3"
    },
    "language_info": {
      "name": "python"
    }
  },
  "cells": [
    {
      "cell_type": "markdown",
      "metadata": {
        "id": "view-in-github",
        "colab_type": "text"
      },
      "source": [
        "<a href=\"https://colab.research.google.com/github/hyeonseonn/sensing_app/blob/main/0721_1.ipynb\" target=\"_parent\"><img src=\"https://colab.research.google.com/assets/colab-badge.svg\" alt=\"Open In Colab\"/></a>"
      ]
    },
    {
      "cell_type": "code",
      "execution_count": 5,
      "metadata": {
        "id": "xeQxmaWcoEjo"
      },
      "outputs": [],
      "source": [
        "import numpy as np\n",
        "import pandas as pd\n",
        "import matplotlib.pyplot as plt\n",
        "from sklearn.preprocessing import MinMaxScaler\n",
        "from tensorflow.keras.models import Sequential\n",
        "from tensorflow.keras.layers import Conv1D, MaxPooling1D, LSTM, Dense\n"
      ]
    },
    {
      "cell_type": "code",
      "source": [
        "#1. data\n",
        "np.random.seed(42) # 매번 돌릴때마다 같은 결과 나오도록 seed\n",
        "days = 30 # 5분 단위 한 달 데이터\n",
        "points_per_day = 24 * 12\n",
        "total_points = days * points_per_day\n",
        "\n",
        "time_index = pd.date_range('2025-06-01', periods=total_points, freq='5T') # T : 분(minutes) 의미\n",
        "\n",
        "cpu = 50 + 30*np.sin(np.linspace(0, 10, total_points)) + np.random.normal(0, 5, total_points) # 평균 0, 표준편차 5\n",
        "\n",
        "df = pd.DataFrame({'timestamp': time_index, 'cpu': cpu})\n",
        "df.set_index('timestamp', inplace=True)\n",
        "\n",
        "# 2. 정규화\n",
        "scaler = MinMaxScaler()\n",
        "scaled_cpu = scaler.fit_transform(df[['cpu']].values)\n",
        "\n",
        "# 3. sequence 생성 (시계열 -> 예측)\n",
        "def create_sequences(dataset, past_steps=20, future_steps=5):\n",
        "    X, y = [], []\n",
        "    for i in range(len(dataset)-past_steps-future_steps):\n",
        "        X.append(dataset[i:i+past_steps])\n",
        "        y.append(dataset[i+past_steps:i+past_steps+future_steps])\n",
        "    return np.array(X), np.array(y)\n",
        "\n",
        "past_steps = 20\n",
        "future_steps = 5\n",
        "X, y = create_sequences(scaled_cpu, past_steps, future_steps)\n",
        "\n",
        "# 8:2 학습\n",
        "train_size = int(len(X)*0.8)\n",
        "X_train, X_test = X[:train_size], X[train_size:]\n",
        "y_train, y_test = y[:train_size], y[train_size:]\n",
        "\n",
        "print(f\"입력 X_train shape: {X_train.shape}, 출력 y_train shape: {y_train.shape}\")\n",
        "\n",
        "# 5. CNN-LSTM\n",
        "model = Sequential()\n",
        "model.add(Conv1D(filters=64, kernel_size=3, activation='relu',\n",
        "                 input_shape=(X_train.shape[1], X_train.shape[2])))\n",
        "model.add(MaxPooling1D(pool_size=2))\n",
        "model.add(LSTM(64, activation='relu'))\n",
        "model.add(Dense(future_steps))  # future step에서의 CPU 예측\n",
        "model.compile(optimizer='adam', loss='mse')\n",
        "\n",
        "\n",
        "model.fit(X_train, y_train.reshape((y_train.shape[0], -1)), # -1: numpy가 알아서 차원 계산하도록\n",
        "          epochs=50, batch_size=16, verbose=1)\n",
        "\n",
        "\n",
        "# 6. prediction\n",
        "pred = model.predict(X_test)\n",
        "pred = pred.reshape(-1, future_steps)  # 미래 5분 예측\n",
        "y_true = y_test.reshape(-1, future_steps)\n",
        "\n",
        "# visualization\n",
        "plt.figure(figsize=(12,5))\n",
        "plt.plot(y_true[:100,0], label=\"True CPU(1minutes)\")\n",
        "plt.plot(pred[:100,0], label=\"Estimated CPU(1minutes)\")\n",
        "plt.legend()\n",
        "plt.title(\"CNN-LSTM\")\n",
        "plt.show()\n"
      ],
      "metadata": {
        "colab": {
          "base_uri": "https://localhost:8080/"
        },
        "id": "qH615sL0hgPY",
        "outputId": "cd894595-5280-4971-fb04-a61e1553add0"
      },
      "execution_count": null,
      "outputs": [
        {
          "output_type": "stream",
          "name": "stdout",
          "text": [
            "입력 X_train shape: (6892, 20, 1), 출력 y_train shape: (6892, 5, 1)\n",
            "Epoch 1/50\n"
          ]
        },
        {
          "output_type": "stream",
          "name": "stderr",
          "text": [
            "/tmp/ipython-input-8-351977584.py:7: FutureWarning: 'T' is deprecated and will be removed in a future version, please use 'min' instead.\n",
            "  time_index = pd.date_range('2025-06-01', periods=total_points, freq='5T') # T : 분(minutes) 의미\n",
            "/usr/local/lib/python3.11/dist-packages/keras/src/layers/convolutional/base_conv.py:107: UserWarning: Do not pass an `input_shape`/`input_dim` argument to a layer. When using Sequential models, prefer using an `Input(shape)` object as the first layer in the model instead.\n",
            "  super().__init__(activity_regularizer=activity_regularizer, **kwargs)\n"
          ]
        },
        {
          "output_type": "stream",
          "name": "stdout",
          "text": [
            "\u001b[1m431/431\u001b[0m \u001b[32m━━━━━━━━━━━━━━━━━━━━\u001b[0m\u001b[37m\u001b[0m \u001b[1m5s\u001b[0m 6ms/step - loss: 0.0427\n",
            "Epoch 2/50\n",
            "\u001b[1m431/431\u001b[0m \u001b[32m━━━━━━━━━━━━━━━━━━━━\u001b[0m\u001b[37m\u001b[0m \u001b[1m3s\u001b[0m 6ms/step - loss: 0.0033\n",
            "Epoch 3/50\n",
            "\u001b[1m431/431\u001b[0m \u001b[32m━━━━━━━━━━━━━━━━━━━━\u001b[0m\u001b[37m\u001b[0m \u001b[1m3s\u001b[0m 6ms/step - loss: 0.0033\n",
            "Epoch 4/50\n",
            "\u001b[1m431/431\u001b[0m \u001b[32m━━━━━━━━━━━━━━━━━━━━\u001b[0m\u001b[37m\u001b[0m \u001b[1m5s\u001b[0m 6ms/step - loss: 0.0033\n",
            "Epoch 5/50\n",
            "\u001b[1m431/431\u001b[0m \u001b[32m━━━━━━━━━━━━━━━━━━━━\u001b[0m\u001b[37m\u001b[0m \u001b[1m3s\u001b[0m 6ms/step - loss: 0.0033\n",
            "Epoch 6/50\n",
            "\u001b[1m431/431\u001b[0m \u001b[32m━━━━━━━━━━━━━━━━━━━━\u001b[0m\u001b[37m\u001b[0m \u001b[1m2s\u001b[0m 6ms/step - loss: 0.0033\n",
            "Epoch 7/50\n",
            "\u001b[1m431/431\u001b[0m \u001b[32m━━━━━━━━━━━━━━━━━━━━\u001b[0m\u001b[37m\u001b[0m \u001b[1m3s\u001b[0m 6ms/step - loss: 0.0033\n",
            "Epoch 8/50\n",
            "\u001b[1m431/431\u001b[0m \u001b[32m━━━━━━━━━━━━━━━━━━━━\u001b[0m\u001b[37m\u001b[0m \u001b[1m4s\u001b[0m 9ms/step - loss: 0.0033\n",
            "Epoch 9/50\n",
            "\u001b[1m431/431\u001b[0m \u001b[32m━━━━━━━━━━━━━━━━━━━━\u001b[0m\u001b[37m\u001b[0m \u001b[1m4s\u001b[0m 6ms/step - loss: 0.0033\n",
            "Epoch 10/50\n",
            "\u001b[1m431/431\u001b[0m \u001b[32m━━━━━━━━━━━━━━━━━━━━\u001b[0m\u001b[37m\u001b[0m \u001b[1m3s\u001b[0m 6ms/step - loss: 0.0032\n",
            "Epoch 11/50\n",
            "\u001b[1m431/431\u001b[0m \u001b[32m━━━━━━━━━━━━━━━━━━━━\u001b[0m\u001b[37m\u001b[0m \u001b[1m3s\u001b[0m 6ms/step - loss: 0.0032\n",
            "Epoch 12/50\n",
            "\u001b[1m431/431\u001b[0m \u001b[32m━━━━━━━━━━━━━━━━━━━━\u001b[0m\u001b[37m\u001b[0m \u001b[1m3s\u001b[0m 7ms/step - loss: 0.0033\n",
            "Epoch 13/50\n",
            "\u001b[1m431/431\u001b[0m \u001b[32m━━━━━━━━━━━━━━━━━━━━\u001b[0m\u001b[37m\u001b[0m \u001b[1m4s\u001b[0m 9ms/step - loss: 0.0033\n",
            "Epoch 14/50\n",
            "\u001b[1m398/431\u001b[0m \u001b[32m━━━━━━━━━━━━━━━━━━\u001b[0m\u001b[37m━━\u001b[0m \u001b[1m0s\u001b[0m 6ms/step - loss: 0.0032"
          ]
        }
      ]
    }
  ]
}